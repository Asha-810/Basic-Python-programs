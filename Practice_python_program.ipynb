{
  "nbformat": 4,
  "nbformat_minor": 0,
  "metadata": {
    "colab": {
      "provenance": [],
      "authorship_tag": "ABX9TyNxgYTnZfXcHTQ3K0NQmOZS",
      "include_colab_link": true
    },
    "kernelspec": {
      "name": "python3",
      "display_name": "Python 3"
    },
    "language_info": {
      "name": "python"
    }
  },
  "cells": [
    {
      "cell_type": "markdown",
      "metadata": {
        "id": "view-in-github",
        "colab_type": "text"
      },
      "source": [
        "<a href=\"https://colab.research.google.com/github/Asha-810/Basic-Python-programs/blob/main/Practice_python_program.ipynb\" target=\"_parent\"><img src=\"https://colab.research.google.com/assets/colab-badge.svg\" alt=\"Open In Colab\"/></a>"
      ]
    },
    {
      "cell_type": "code",
      "execution_count": null,
      "metadata": {
        "id": "CCfDGiZ5aB2-",
        "colab": {
          "base_uri": "https://localhost:8080/"
        },
        "outputId": "ba4830f9-e96e-46d4-f064-2840b685839f"
      },
      "outputs": [
        {
          "output_type": "stream",
          "name": "stdout",
          "text": [
            "enter your grade: 37\n",
            "grade is F\n"
          ]
        }
      ],
      "source": [
        "#print grades based on marks\n",
        "score=int(input(\"enter your grade: \"))\n",
        "\n",
        "if score>=90:\n",
        "    print(\"grade is A\")\n",
        "elif score>=80 and score<90:\n",
        "    print(\"grade is B\")\n",
        "elif score>=70 and score<80:\n",
        "    print(\"grade is C\")\n",
        "elif score>=60 and score<70:\n",
        "    print(\"grade is D\")\n",
        "elif score<60 :\n",
        "    print(\"grade is F\")\n",
        "else:\n",
        "    print(\"low grade\")"
      ]
    },
    {
      "cell_type": "code",
      "source": [
        "#odd or even\n",
        "num=int(input(\"enter a number: \"))\n",
        "if num%2==0:\n",
        "    print(f\"The number is even :{num}\")\n",
        "else:\n",
        "    print(f\"The number is odd :{num}\")"
      ],
      "metadata": {
        "colab": {
          "base_uri": "https://localhost:8080/"
        },
        "id": "IJB1PVQ0xHA-",
        "outputId": "f361992d-c274-4541-8484-7604db8a5738"
      },
      "execution_count": null,
      "outputs": [
        {
          "output_type": "stream",
          "name": "stdout",
          "text": [
            "enter a number: 7\n",
            "The number is odd :7\n"
          ]
        }
      ]
    },
    {
      "cell_type": "code",
      "source": [
        "#leap year or not\n",
        "num=int(input(\"enter a year: \"))\n",
        "\n",
        "if (num%400==0) and (num%100==0):\n",
        "    print(f\"{num} is a leap year\")\n",
        "elif(num%4==0) and (num%100 != 0):\n",
        "    print(f\"{num} is a leap year\")\n",
        "else:\n",
        "     print(f\"{num} is a not leap year\")"
      ],
      "metadata": {
        "colab": {
          "base_uri": "https://localhost:8080/"
        },
        "id": "Ox9TotV_xaQE",
        "outputId": "8b2d02e8-b214-4154-e39c-99dd64558d81"
      },
      "execution_count": null,
      "outputs": [
        {
          "output_type": "stream",
          "name": "stdout",
          "text": [
            "enter a year: 2000\n",
            "2000 is a leap year\n"
          ]
        }
      ]
    },
    {
      "cell_type": "code",
      "source": [
        "#category the age\n",
        "\n",
        "age=int(input(\"enter a age: \"))\n",
        "if age<=11:\n",
        "    print(\"children\")\n",
        "elif age>11 and age<=18:\n",
        "    print(\"teenage\")\n",
        "elif age>18 and age<=60:\n",
        "    print(\"adult\")\n",
        "elif age>=60:\n",
        "    print(\"old\")\n",
        "else:\n",
        "    print(\"invalid age\")"
      ],
      "metadata": {
        "colab": {
          "base_uri": "https://localhost:8080/"
        },
        "id": "tNxqQ0vGxjkE",
        "outputId": "f5dfe8af-21b5-486b-a20b-bc4043fd75fa"
      },
      "execution_count": null,
      "outputs": [
        {
          "output_type": "stream",
          "name": "stdout",
          "text": [
            "enter a age: 43\n",
            "adult\n"
          ]
        }
      ]
    },
    {
      "cell_type": "code",
      "source": [
        "#maximum number\n",
        "num1=int(input(\"enter a 1 number: \"))\n",
        "num2=int(input(\"enter a 2 number: \"))\n",
        "num3=int(input(\"enter a 3 number: \"))\n",
        "maxi=max(num1,num2,num3)\n",
        "print(f\"the maximum number is {maxi}\")"
      ],
      "metadata": {
        "colab": {
          "base_uri": "https://localhost:8080/"
        },
        "id": "BxbawBDfxrtt",
        "outputId": "bde34aa5-7ebf-40f5-b9f3-59fabc8eef50"
      },
      "execution_count": null,
      "outputs": [
        {
          "output_type": "stream",
          "name": "stdout",
          "text": [
            "enter a 1 number: 45\n",
            "enter a 2 number: 37\n",
            "enter a 3 number: 20\n",
            "the maximum number is 45\n"
          ]
        }
      ]
    },
    {
      "cell_type": "code",
      "source": [
        "# Exercise 1:\n",
        "# Calculate the multiplication and sum of two numbers\n",
        "# Given two integer numbers, write a Python code to return their product only if the product is equal to or lower than 1000. Othe20rwise, return their sum.\n",
        "\n",
        "num1=20\n",
        "num2=30\n",
        "if (num1*num2)<=1000:\n",
        "  print(f\"product= {num1*num2}\")\n",
        "else:\n",
        "  print(f\"sum = {num1+num2}\")"
      ],
      "metadata": {
        "colab": {
          "base_uri": "https://localhost:8080/"
        },
        "id": "gRkpu5cmq3Nu",
        "outputId": "80a50ae8-9bb2-4723-8b60-cba0eac71caf"
      },
      "execution_count": null,
      "outputs": [
        {
          "output_type": "stream",
          "name": "stdout",
          "text": [
            "product= 600\n"
          ]
        }
      ]
    },
    {
      "cell_type": "code",
      "source": [
        "num1=40\n",
        "num2=30\n",
        "if (num1*num2)<=1000:\n",
        "  print(f\"product= {num1*num2}\")\n",
        "else:\n",
        "  print(f\"sum = {num1+num2}\")"
      ],
      "metadata": {
        "colab": {
          "base_uri": "https://localhost:8080/"
        },
        "id": "ileXyj6nsJq_",
        "outputId": "fc5128a9-ef32-4180-a005-ac1d858f8012"
      },
      "execution_count": null,
      "outputs": [
        {
          "output_type": "stream",
          "name": "stdout",
          "text": [
            "sum = 70\n"
          ]
        }
      ]
    },
    {
      "cell_type": "code",
      "source": [
        "#Exercise 2: Print the Sum of a Current Number and a Previous number\n",
        "\n",
        "for i in range(1,10):\n",
        "  print(f\"current number {i} previous number {i-1} sum : {i+i-1}\")"
      ],
      "metadata": {
        "colab": {
          "base_uri": "https://localhost:8080/"
        },
        "id": "6qdQ2SWcsPj1",
        "outputId": "931fd4bd-c92c-4c15-a67c-29ae1d60b869"
      },
      "execution_count": null,
      "outputs": [
        {
          "output_type": "stream",
          "name": "stdout",
          "text": [
            "current number 1 previous number 0 sum : 1\n",
            "current number 2 previous number 1 sum : 3\n",
            "current number 3 previous number 2 sum : 5\n",
            "current number 4 previous number 3 sum : 7\n",
            "current number 5 previous number 4 sum : 9\n",
            "current number 6 previous number 5 sum : 11\n",
            "current number 7 previous number 6 sum : 13\n",
            "current number 8 previous number 7 sum : 15\n",
            "current number 9 previous number 8 sum : 17\n"
          ]
        }
      ]
    },
    {
      "cell_type": "code",
      "source": [
        "#Exercise 3: Print characters present at an even index number\n",
        "\n",
        "str=input(\"enter a string: \")\n",
        "print(str[::2])"
      ],
      "metadata": {
        "colab": {
          "base_uri": "https://localhost:8080/"
        },
        "id": "oAXmRVRatQhX",
        "outputId": "46b27d66-dcdf-4bcb-a9ca-63a04fdd32ec"
      },
      "execution_count": null,
      "outputs": [
        {
          "output_type": "stream",
          "name": "stdout",
          "text": [
            "enter a string: ASHA\n",
            "AH\n"
          ]
        }
      ]
    },
    {
      "cell_type": "code",
      "source": [
        "string=input(\"enter a string : \")\n",
        "for i in string:\n",
        "  print(i[::2])"
      ],
      "metadata": {
        "colab": {
          "base_uri": "https://localhost:8080/"
        },
        "id": "L5tcclbNucwh",
        "outputId": "a261b2ea-b5f3-4513-f5b4-ecba616da879"
      },
      "execution_count": null,
      "outputs": [
        {
          "output_type": "stream",
          "name": "stdout",
          "text": [
            "enter a string : ASHA\n",
            "A\n",
            "S\n",
            "H\n",
            "A\n"
          ]
        }
      ]
    },
    {
      "cell_type": "code",
      "source": [
        "#Exercise 4: Remove first n characters from a string\n",
        "\n",
        "str = \"PYnative\"\n",
        "n=int(input(\"enter a number: \"))\n",
        "if n<=len(str):\n",
        "  print(str[n:])"
      ],
      "metadata": {
        "colab": {
          "base_uri": "https://localhost:8080/"
        },
        "id": "9htE6VQywT0z",
        "outputId": "9e3e92e3-2872-4c48-f60a-069765fa1cd2"
      },
      "execution_count": null,
      "outputs": [
        {
          "output_type": "stream",
          "name": "stdout",
          "text": [
            "enter a number: 4\n",
            "tive\n"
          ]
        }
      ]
    },
    {
      "cell_type": "code",
      "source": [
        "#Exercise 5: Check if the first and last numbers of a list are the same\n",
        "\n",
        "numbers_x = [10, 20, 30, 40, 10]\n",
        "#numbers_y = [75, 65, 35, 75, 30]\n",
        "if numbers_x[0]==numbers_x[-1]:\n",
        "  print(\"result is true\")\n"
      ],
      "metadata": {
        "colab": {
          "base_uri": "https://localhost:8080/"
        },
        "id": "iHY18sbTzbhM",
        "outputId": "cca019c5-f4c1-4b8d-bab2-f38624b5e70b"
      },
      "execution_count": null,
      "outputs": [
        {
          "output_type": "stream",
          "name": "stdout",
          "text": [
            "result is true\n"
          ]
        }
      ]
    },
    {
      "cell_type": "code",
      "source": [
        "numbers_y = [75, 65, 35, 75, 30]\n",
        "if numbers_y[0]==numbers_y[-1]:\n",
        "  print(\"result is true\")\n",
        "else:\n",
        "  print(\"result is false\")"
      ],
      "metadata": {
        "colab": {
          "base_uri": "https://localhost:8080/"
        },
        "id": "B4twyAO00MMQ",
        "outputId": "192cdcc3-f362-4b3c-c083-51d54c94befa"
      },
      "execution_count": null,
      "outputs": [
        {
          "output_type": "stream",
          "name": "stdout",
          "text": [
            "result is false\n"
          ]
        }
      ]
    },
    {
      "cell_type": "code",
      "source": [
        "#Exercise 6: Display numbers divisible by 5\n",
        "#Write a Python code to display numbers from a list divisible by 5\n",
        "\n",
        "list=[10,20,33,46,55]\n",
        "print(\"divisible by 5\")\n",
        "for i in list:\n",
        "  if i%5==0:\n",
        "    print(i)"
      ],
      "metadata": {
        "colab": {
          "base_uri": "https://localhost:8080/"
        },
        "id": "jDBQEdi90sF3",
        "outputId": "cbca1413-7889-490d-f772-62c15de792da"
      },
      "execution_count": null,
      "outputs": [
        {
          "output_type": "stream",
          "name": "stdout",
          "text": [
            "divisible by 5\n",
            "10\n",
            "20\n",
            "55\n"
          ]
        }
      ]
    },
    {
      "cell_type": "code",
      "source": [
        "#Exercise 7: Find the number of occurrences of a substring in a string\n",
        "\n",
        "str_x = \"Emma is good developer. Emma is a writer\"\n",
        "pre=str_x.count(\"Emma\")\n",
        "print(pre)"
      ],
      "metadata": {
        "colab": {
          "base_uri": "https://localhost:8080/"
        },
        "id": "vtE6tCi3M-cl",
        "outputId": "c62277d4-2ef1-4818-94b3-ff85603f9efc"
      },
      "execution_count": null,
      "outputs": [
        {
          "output_type": "stream",
          "name": "stdout",
          "text": [
            "2\n"
          ]
        }
      ]
    },
    {
      "cell_type": "code",
      "source": [
        "#Exercise 8: Print the following pattern\n",
        "for i in range(1, 6):\n",
        "    print((str(i) + \" \")*i)\n",
        "\n"
      ],
      "metadata": {
        "colab": {
          "base_uri": "https://localhost:8080/"
        },
        "id": "gzh9mpH9O1os",
        "outputId": "c5218d52-d7fe-4e00-d8cd-556b121ed111"
      },
      "execution_count": null,
      "outputs": [
        {
          "output_type": "stream",
          "name": "stdout",
          "text": [
            "1 \n",
            "2 2 \n",
            "3 3 3 \n",
            "4 4 4 4 \n",
            "5 5 5 5 5 \n"
          ]
        }
      ]
    },
    {
      "cell_type": "code",
      "source": [
        "#Exercise 9: Check Palindrome Number\n",
        "def is_palindrome(num):\n",
        "    original_num = num\n",
        "    reversed_num = 0\n",
        "    while num > 0:\n",
        "        digit = num % 10  # extract last 10 stored in digit\n",
        "        reversed_num = reversed_num * 10 + digit  #find rev\n",
        "        num = num // 10 #delete last num\n",
        "    return original_num == reversed_num\n",
        "number = 121\n",
        "if is_palindrome(number):\n",
        "    print(f\"{number} is a palindrome\")\n",
        "else:\n",
        "    print(f\"{number} is not a palindrome\")\n"
      ],
      "metadata": {
        "id": "VFSK_YjCW2cc",
        "colab": {
          "base_uri": "https://localhost:8080/"
        },
        "outputId": "5e6f4000-d120-4e62-ee53-421d9b23a3fd"
      },
      "execution_count": null,
      "outputs": [
        {
          "output_type": "stream",
          "name": "stdout",
          "text": [
            "121 is a palindrome\n"
          ]
        }
      ]
    },
    {
      "cell_type": "code",
      "source": [
        "def palindrome(num):\n",
        "\n",
        "  return str(num)==str(num)[::-1]\n",
        "\n",
        "number=121\n",
        "if palindrome(number):\n",
        "  print(f\"{number} is a palindrome\")\n",
        "else:\n",
        "  print(f\"{number} is not a palindrome\")"
      ],
      "metadata": {
        "colab": {
          "base_uri": "https://localhost:8080/"
        },
        "id": "dvGcuUphbTm-",
        "outputId": "9960a6a5-a949-483c-ea44-580ee82f1e5d"
      },
      "execution_count": null,
      "outputs": [
        {
          "output_type": "stream",
          "name": "stdout",
          "text": [
            "121 is a palindrome\n"
          ]
        }
      ]
    },
    {
      "cell_type": "code",
      "source": [
        "#Exercise 10: Merge two lists using the following condition\n",
        "\n",
        "list1 = [10, 20, 25, 30, 35]\n",
        "list2 = [40, 45, 60, 75, 90]\n",
        "merge_list=[num for num in list1 if num%2!=0] + [num for num in list2 if num%2==0]\n",
        "print(merge_list)\n"
      ],
      "metadata": {
        "colab": {
          "base_uri": "https://localhost:8080/"
        },
        "id": "wJdKhD5Le0NY",
        "outputId": "3e592f10-1cf8-45cc-fe0c-94d67050abe0"
      },
      "execution_count": null,
      "outputs": [
        {
          "output_type": "stream",
          "name": "stdout",
          "text": [
            "[25, 35, 40, 60, 90]\n"
          ]
        }
      ]
    },
    {
      "cell_type": "code",
      "source": [
        "#Exercise 11: Get each digit from a number in the reverse order.\n",
        "\n",
        "num=\"7536\"\n",
        "digits=[digits for digits in num[::-1]]\n",
        "print(\" \".join(digits))"
      ],
      "metadata": {
        "id": "t541frb_hK1t",
        "colab": {
          "base_uri": "https://localhost:8080/"
        },
        "outputId": "6f9d5322-cd45-4695-f223-1d1e7db25934"
      },
      "execution_count": null,
      "outputs": [
        {
          "output_type": "stream",
          "name": "stdout",
          "text": [
            "6 3 5 7\n"
          ]
        }
      ]
    },
    {
      "cell_type": "code",
      "source": [
        "num=7536\n",
        "while num>0:\n",
        "    digit=num%10\n",
        "    print(digit,end=\" \")\n",
        "    num=num//10"
      ],
      "metadata": {
        "colab": {
          "base_uri": "https://localhost:8080/"
        },
        "id": "cWz1GcQjstKC",
        "outputId": "b0474d57-4151-429b-8c6e-7a23d5e2c8d6"
      },
      "execution_count": null,
      "outputs": [
        {
          "output_type": "stream",
          "name": "stdout",
          "text": [
            "6 3 5 7 "
          ]
        }
      ]
    },
    {
      "cell_type": "code",
      "source": [
        "#Exercise 12: Calculate income tax\n",
        "income=45000\n",
        "tax=0\n",
        "if income<=10000:\n",
        "    tax=0\n",
        "elif income<=20000:\n",
        "    tax =(income - 10000)* 0.10\n",
        "else:\n",
        "    tax=(10000*0.10)+(income -20000)*0.20\n",
        "print(f\"income: ${income},tax payablle: ${tax}\")\n",
        "\n",
        "def exponent(base,exp):\n",
        "    return base**exp\n",
        "base=2\n",
        "exp=5\n",
        "result=exponent(base,exp)\n",
        "print(f\"{base} raised to the poer of {exp} is {result}\")"
      ],
      "metadata": {
        "colab": {
          "base_uri": "https://localhost:8080/"
        },
        "id": "G3AV0_xBt8nU",
        "outputId": "0177c6fb-b849-4869-d9ac-f26b7baa4e66"
      },
      "execution_count": null,
      "outputs": [
        {
          "output_type": "stream",
          "name": "stdout",
          "text": [
            "income: $45000,tax payablle: $6000.0\n",
            "2 raised to the poer of 5 is 32\n"
          ]
        }
      ]
    },
    {
      "cell_type": "code",
      "source": [
        "#Exercise 13: Print multiplication table from 1 to 10\n",
        "for i in range(1,11):\n",
        "  for j in range(1,11):\n",
        "    print(f\"{i * j:4}\",end=\" \")\n",
        "  print()\n",
        "\n"
      ],
      "metadata": {
        "colab": {
          "base_uri": "https://localhost:8080/"
        },
        "id": "GYpx49-_J_be",
        "outputId": "a3050876-d294-4c6f-b575-3c9ef1f8438d"
      },
      "execution_count": null,
      "outputs": [
        {
          "output_type": "stream",
          "name": "stdout",
          "text": [
            "   1    2    3    4    5    6    7    8    9   10 \n",
            "   2    4    6    8   10   12   14   16   18   20 \n",
            "   3    6    9   12   15   18   21   24   27   30 \n",
            "   4    8   12   16   20   24   28   32   36   40 \n",
            "   5   10   15   20   25   30   35   40   45   50 \n",
            "   6   12   18   24   30   36   42   48   54   60 \n",
            "   7   14   21   28   35   42   49   56   63   70 \n",
            "   8   16   24   32   40   48   56   64   72   80 \n",
            "   9   18   27   36   45   54   63   72   81   90 \n",
            "  10   20   30   40   50   60   70   80   90  100 \n"
          ]
        }
      ]
    },
    {
      "cell_type": "code",
      "source": [
        "#Exercise 14: Print a downward half-pyramid pattern of stars\n",
        "n=5\n",
        "for i in range(n,0,-1):\n",
        "    print(\"*\"*i)\n",
        "\n"
      ],
      "metadata": {
        "colab": {
          "base_uri": "https://localhost:8080/"
        },
        "id": "jGZ4GtmyKXia",
        "outputId": "20fa1079-75f2-42f6-ccff-355934f948bb"
      },
      "execution_count": null,
      "outputs": [
        {
          "output_type": "stream",
          "name": "stdout",
          "text": [
            "*****\n",
            "****\n",
            "***\n",
            "**\n",
            "*\n"
          ]
        }
      ]
    },
    {
      "cell_type": "code",
      "source": [
        "#Exercise 15: Get an int value of base raises to the power of exponent\n",
        "def exponent(base,exp):\n",
        "    return base**exp\n",
        "base=2\n",
        "exp=5\n",
        "result=exponent(base,exp)\n",
        "print(f\"{base} raised to the poer of {exp} is {result}\")\n"
      ],
      "metadata": {
        "colab": {
          "base_uri": "https://localhost:8080/"
        },
        "id": "EWF68LReKaxh",
        "outputId": "2ab85ebb-2529-4401-b31a-b0195db55253"
      },
      "execution_count": null,
      "outputs": [
        {
          "output_type": "stream",
          "name": "stdout",
          "text": [
            "2 raised to the poer of 5 is 32\n"
          ]
        }
      ]
    },
    {
      "cell_type": "markdown",
      "source": [
        "CASE STUDY - 3 LOOP"
      ],
      "metadata": {
        "id": "eYAdcBO0uvL0"
      }
    },
    {
      "cell_type": "code",
      "source": [
        "#Exercise 1: Print first 10 natural numbers using while loop\n",
        "i=1\n",
        "while(i<11):\n",
        "    print(i)\n",
        "    i =i+1"
      ],
      "metadata": {
        "colab": {
          "base_uri": "https://localhost:8080/"
        },
        "id": "K0y4EksFu1i0",
        "outputId": "eec4f50d-7bb5-4e80-ae67-57aff7025f16"
      },
      "execution_count": null,
      "outputs": [
        {
          "output_type": "stream",
          "name": "stdout",
          "text": [
            "1\n",
            "2\n",
            "3\n",
            "4\n",
            "5\n",
            "6\n",
            "7\n",
            "8\n",
            "9\n",
            "10\n"
          ]
        }
      ]
    },
    {
      "cell_type": "code",
      "source": [
        "#Exercise 2: Print the following pattern\n",
        "n=5\n",
        "for i in range(1,n+1):\n",
        "    for j in range(1,i+1):\n",
        "         print(j,end=\" \")\n",
        "    print()"
      ],
      "metadata": {
        "colab": {
          "base_uri": "https://localhost:8080/"
        },
        "id": "uCxqu9kMu7K7",
        "outputId": "c8d2b636-5c18-4044-c6d7-f70211e2f42c"
      },
      "execution_count": null,
      "outputs": [
        {
          "output_type": "stream",
          "name": "stdout",
          "text": [
            "1 \n",
            "1 2 \n",
            "1 2 3 \n",
            "1 2 3 4 \n",
            "1 2 3 4 5 \n"
          ]
        }
      ]
    },
    {
      "cell_type": "code",
      "source": [
        "#Exercise 3: Calculate sum of all numbers from 1 to a given number\n",
        "num=int(input(\"enter a number: \"))\n",
        "add=(i for i in range(0,num+1))\n",
        "print(sum(add))"
      ],
      "metadata": {
        "colab": {
          "base_uri": "https://localhost:8080/"
        },
        "id": "KzauDwnNvAfU",
        "outputId": "3843a275-d5ac-47b9-cd89-17d8f4f0b8c2"
      },
      "execution_count": null,
      "outputs": [
        {
          "output_type": "stream",
          "name": "stdout",
          "text": [
            "enter a number: 4\n",
            "10\n"
          ]
        }
      ]
    },
    {
      "cell_type": "code",
      "source": [
        "#Exercise 4: Print multiplication table of a given number\n",
        "num=2\n",
        "for i in range(1,11):\n",
        "  print(num*i)"
      ],
      "metadata": {
        "colab": {
          "base_uri": "https://localhost:8080/"
        },
        "id": "Czy6k2PxvZlu",
        "outputId": "831cdb9c-c34e-4329-fb6f-e12a6b8e4722"
      },
      "execution_count": null,
      "outputs": [
        {
          "output_type": "stream",
          "name": "stdout",
          "text": [
            "2\n",
            "4\n",
            "6\n",
            "8\n",
            "10\n",
            "12\n",
            "14\n",
            "16\n",
            "18\n",
            "20\n"
          ]
        }
      ]
    },
    {
      "cell_type": "code",
      "source": [
        "#Exercise 5: Display numbers from a list using a loop\n",
        "numbers = [12, 75, 150, 180, 145, 525, 50]\n",
        "for i in numbers:\n",
        "  if i>500:\n",
        "    break\n",
        "  if i>150:\n",
        "    continue\n",
        "  if i%5==0:\n",
        "    print(i)\n"
      ],
      "metadata": {
        "colab": {
          "base_uri": "https://localhost:8080/"
        },
        "id": "bXhW7KZ6wAoK",
        "outputId": "daa0c6a2-5711-4cd2-b0c8-5eaa65f84300"
      },
      "execution_count": null,
      "outputs": [
        {
          "output_type": "stream",
          "name": "stdout",
          "text": [
            "75\n",
            "150\n",
            "145\n"
          ]
        }
      ]
    },
    {
      "cell_type": "code",
      "source": [
        "#Exercise 6: Count the total number of digits in a number\n",
        "num=\"75869\"\n",
        "print(len(num))"
      ],
      "metadata": {
        "colab": {
          "base_uri": "https://localhost:8080/"
        },
        "id": "dI7_eiksypiI",
        "outputId": "e6f0a600-e864-4b41-fda7-16f2069247cf"
      },
      "execution_count": null,
      "outputs": [
        {
          "output_type": "stream",
          "name": "stdout",
          "text": [
            "5\n"
          ]
        }
      ]
    },
    {
      "cell_type": "code",
      "source": [
        "num=75869\n",
        "count=0\n",
        "while num>0:\n",
        "  num//=10\n",
        "  count=count+1\n",
        "print(count)"
      ],
      "metadata": {
        "colab": {
          "base_uri": "https://localhost:8080/"
        },
        "id": "Kn-wYipjzsGi",
        "outputId": "59b24fc1-164e-47aa-c8eb-3061e4afb163"
      },
      "execution_count": null,
      "outputs": [
        {
          "output_type": "stream",
          "name": "stdout",
          "text": [
            "5\n"
          ]
        }
      ]
    },
    {
      "cell_type": "code",
      "source": [
        "#Exercise 7: Print the following pattern\n",
        "rows = 5\n",
        "for i in range(rows, 0, -1):\n",
        "    for j in range(i, 0, -1):\n",
        "        print(j, end=\" \")\n",
        "    print()"
      ],
      "metadata": {
        "colab": {
          "base_uri": "https://localhost:8080/"
        },
        "id": "CjWR9U3k0pwN",
        "outputId": "c72c2cad-521b-470b-b4f5-c4a001d1a0b9"
      },
      "execution_count": null,
      "outputs": [
        {
          "output_type": "stream",
          "name": "stdout",
          "text": [
            "5 4 3 2 1 \n",
            "4 3 2 1 \n",
            "3 2 1 \n",
            "2 1 \n",
            "1 \n"
          ]
        }
      ]
    },
    {
      "cell_type": "code",
      "source": [
        "#Exercise 8: Print list in reverse order using a loop\n",
        "list1 = [10, 20, 30, 40, 50]\n",
        "list2=list1[4::-1]\n",
        "for i in list2:\n",
        "  print(i)"
      ],
      "metadata": {
        "colab": {
          "base_uri": "https://localhost:8080/"
        },
        "id": "3YW8hxgj3DiA",
        "outputId": "5d8da420-a41f-4b1f-ecf3-a499584d32ab"
      },
      "execution_count": null,
      "outputs": [
        {
          "output_type": "stream",
          "name": "stdout",
          "text": [
            "50\n",
            "40\n",
            "30\n",
            "20\n",
            "10\n"
          ]
        }
      ]
    },
    {
      "cell_type": "code",
      "source": [
        "#Exercise 9: Display numbers from -10 to -1 using for loop\n",
        "\n",
        "for i in range(-10,0):\n",
        "  print(i)"
      ],
      "metadata": {
        "colab": {
          "base_uri": "https://localhost:8080/"
        },
        "id": "15NtvKY64x7J",
        "outputId": "1acc5ee3-e31f-4ae7-bbd6-8ae036f64ff0"
      },
      "execution_count": null,
      "outputs": [
        {
          "output_type": "stream",
          "name": "stdout",
          "text": [
            "-10\n",
            "-9\n",
            "-8\n",
            "-7\n",
            "-6\n",
            "-5\n",
            "-4\n",
            "-3\n",
            "-2\n",
            "-1\n"
          ]
        }
      ]
    },
    {
      "cell_type": "code",
      "source": [
        "#Exercise 10: Display a message “Done” after the successful execution of the for loop\n",
        "for i in range(5):\n",
        "    print(i)\n",
        "print(\"DONE!\")\n"
      ],
      "metadata": {
        "colab": {
          "base_uri": "https://localhost:8080/"
        },
        "id": "lOrl0ZsF5MaQ",
        "outputId": "27dddd4b-7aac-44ba-9a56-36ae1987f16e"
      },
      "execution_count": null,
      "outputs": [
        {
          "output_type": "stream",
          "name": "stdout",
          "text": [
            "0\n",
            "1\n",
            "2\n",
            "3\n",
            "4\n",
            "DONE!\n"
          ]
        }
      ]
    },
    {
      "cell_type": "code",
      "source": [
        "#Exercise 11: Print all prime numbers within a rangel\n",
        "start = 25\n",
        "end = 50\n",
        "\n",
        "print(\"Prime numbers between\", start, \"and\", end, \"are:\")\n",
        "\n",
        "for num in range(start, end + 1):\n",
        "   if num > 1:\n",
        "       for i in range(2, num):\n",
        "           if (num % i) == 0:\n",
        "               break\n",
        "       else:\n",
        "           print(num)"
      ],
      "metadata": {
        "colab": {
          "base_uri": "https://localhost:8080/"
        },
        "id": "8ChZS5kj5a7B",
        "outputId": "4b528fec-c545-43ce-d064-d64bc59930c7"
      },
      "execution_count": null,
      "outputs": [
        {
          "output_type": "stream",
          "name": "stdout",
          "text": [
            "Prime numbers between 25 and 50 are:\n",
            "29\n",
            "31\n",
            "37\n",
            "41\n",
            "43\n",
            "47\n"
          ]
        }
      ]
    },
    {
      "cell_type": "code",
      "source": [
        "#Exercise 12: Display Fibonacci series up to 10 terms:\n",
        "n=10\n",
        "num1=0\n",
        "num2=1\n",
        "next_num=num2\n",
        "count=1\n",
        "while count<=n:\n",
        "  print(next_num,end=\" \")\n",
        "  count+=1\n",
        "  num1,num2=num2,next_num\n",
        "  next_num=num1+num2\n",
        "print()"
      ],
      "metadata": {
        "colab": {
          "base_uri": "https://localhost:8080/"
        },
        "id": "WWL5oPapAzAS",
        "outputId": "3ea61294-5bc9-472d-8d1d-b82a4f43603e"
      },
      "execution_count": null,
      "outputs": [
        {
          "output_type": "stream",
          "name": "stdout",
          "text": [
            "0 1\n",
            "1 2 3 5 8 13 21 34 55 89 \n"
          ]
        }
      ]
    },
    {
      "cell_type": "code",
      "source": [
        "#Exercise 13: Find the factorial of a given number\n",
        "num = 6\n",
        "factorial = 1\n",
        "for i in range(1, num + 1):\n",
        "    factorial *= i\n",
        "print(f\"The factorial of {num} is {factorial}\")"
      ],
      "metadata": {
        "colab": {
          "base_uri": "https://localhost:8080/"
        },
        "id": "9T3lHRzuC0C8",
        "outputId": "3599e673-74c3-4961-bc59-281ab525a4f1"
      },
      "execution_count": null,
      "outputs": [
        {
          "output_type": "stream",
          "name": "stdout",
          "text": [
            "The factorial of 6 is 720\n"
          ]
        }
      ]
    },
    {
      "cell_type": "code",
      "source": [
        "#Exercise 14: Reverse a integer number\n",
        "num=76542\n",
        "while num>0:\n",
        "    digit=num%10\n",
        "    print(digit,end=\" \")\n",
        "    num=num//10"
      ],
      "metadata": {
        "colab": {
          "base_uri": "https://localhost:8080/"
        },
        "id": "1mpzhkmMMzLn",
        "outputId": "6c6de484-3ee2-487c-f260-523881600de1"
      },
      "execution_count": null,
      "outputs": [
        {
          "output_type": "stream",
          "name": "stdout",
          "text": [
            "2 4 5 6 7 "
          ]
        }
      ]
    },
    {
      "cell_type": "code",
      "source": [
        "#Exercise 15: Print elements from a given list present at odd index positions\n",
        "my_list = [10, 20, 30, 40, 50, 60, 70, 80, 90, 100]\n",
        "for i in range(1,len(my_list),2):\n",
        "  print(my_list[i],end=\" \")\n"
      ],
      "metadata": {
        "colab": {
          "base_uri": "https://localhost:8080/"
        },
        "id": "UaJJnzRBNNbv",
        "outputId": "ba0d55e0-8680-4292-a8fb-d58e30d5dbe9"
      },
      "execution_count": null,
      "outputs": [
        {
          "output_type": "stream",
          "name": "stdout",
          "text": [
            "20 40 60 80 100 "
          ]
        }
      ]
    },
    {
      "cell_type": "code",
      "source": [
        "#Exercise 16: Calculate the cube of all numbers from 1 to a given number\n",
        "input_number = 6\n",
        "for i in range(1,input_number):\n",
        "  cube=i*i*i\n",
        "  print(f\"current number is {i} Cube of this number is {cube}\")"
      ],
      "metadata": {
        "colab": {
          "base_uri": "https://localhost:8080/"
        },
        "id": "fkEcDhJM5X8Y",
        "outputId": "b27d2044-4f04-4bb9-8e91-72beea4a469d"
      },
      "execution_count": null,
      "outputs": [
        {
          "output_type": "stream",
          "name": "stdout",
          "text": [
            "current number is 1 Cube of this number is 1\n",
            "current number is 2 Cube of this number is 8\n",
            "current number is 3 Cube of this number is 27\n",
            "current number is 4 Cube of this number is 64\n",
            "current number is 5 Cube of this number is 125\n"
          ]
        }
      ]
    },
    {
      "cell_type": "code",
      "source": [
        "#Exercise 17: Find the sum of the series up to n terms\n",
        "n = 5\n",
        "sum=0\n",
        "for i in range(1,n+1):\n",
        "  sum=sum+int('2'*i)\n",
        "print(f\"sum of {n} is {sum}\")"
      ],
      "metadata": {
        "colab": {
          "base_uri": "https://localhost:8080/"
        },
        "id": "1CWtonbK7eHb",
        "outputId": "208dbfe6-2bca-4c2f-95c7-9a2486a2ae9c"
      },
      "execution_count": null,
      "outputs": [
        {
          "output_type": "stream",
          "name": "stdout",
          "text": [
            "sum of 5 is 24690\n"
          ]
        }
      ]
    },
    {
      "cell_type": "code",
      "source": [
        "#Exercise 18: Print the following pattern\n",
        "n=5\n",
        "for i in range(1,n):\n",
        "  for j in range(1,i+1):\n",
        "    print(\"*\",end=\" \")\n",
        "  print()\n",
        "for k in range(n,0,-1):\n",
        "  for l in range(1,k+1):\n",
        "    print(\"*\",end=\" \")\n",
        "  print(\"\\r\")"
      ],
      "metadata": {
        "colab": {
          "base_uri": "https://localhost:8080/"
        },
        "id": "j_ZnVwQTD5mq",
        "outputId": "a41a71e7-da63-413d-9aa5-703083755753"
      },
      "execution_count": null,
      "outputs": [
        {
          "output_type": "stream",
          "name": "stdout",
          "text": [
            "* \n",
            "* * \n",
            "* * * \n",
            "* * * * \n",
            "* * * * * \r\n",
            "* * * * \r\n",
            "* * * \r\n",
            "* * \r\n",
            "* \r\n"
          ]
        }
      ]
    },
    {
      "cell_type": "code",
      "source": [],
      "metadata": {
        "id": "WqL1nTAlIGYQ"
      },
      "execution_count": null,
      "outputs": []
    }
  ]
}