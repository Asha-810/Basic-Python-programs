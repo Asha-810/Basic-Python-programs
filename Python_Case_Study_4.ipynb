{
  "nbformat": 4,
  "nbformat_minor": 0,
  "metadata": {
    "colab": {
      "provenance": [],
      "authorship_tag": "ABX9TyPziJPZYNfsz4hGmDhWgfUB",
      "include_colab_link": true
    },
    "kernelspec": {
      "name": "python3",
      "display_name": "Python 3"
    },
    "language_info": {
      "name": "python"
    }
  },
  "cells": [
    {
      "cell_type": "markdown",
      "metadata": {
        "id": "view-in-github",
        "colab_type": "text"
      },
      "source": [
        "<a href=\"https://colab.research.google.com/github/Asha-810/Basic-Python-programs/blob/main/python_cs_4.ipynb\" target=\"_parent\"><img src=\"https://colab.research.google.com/assets/colab-badge.svg\" alt=\"Open In Colab\"/></a>"
      ]
    },
    {
      "cell_type": "code",
      "execution_count": null,
      "metadata": {
        "colab": {
          "base_uri": "https://localhost:8080/"
        },
        "id": "q_lsFSxuIdbn",
        "outputId": "5bdd68e5-0625-4b8a-da4a-3eb893ae26fb"
      },
      "outputs": [
        {
          "output_type": "stream",
          "name": "stdout",
          "text": [
            "enter your score: 63\n",
            "your grade is : c\n"
          ]
        }
      ],
      "source": [
        "#1.  Grades Assignment : Write a program that assigns grades to students based on their scores.\n",
        "def grades_assign(score):\n",
        "  if score>=90:\n",
        "    print(\"your grade is : A\")\n",
        "  elif score<90 and score>=80:\n",
        "    print(\"your grade is : B\")\n",
        "  elif score<80 and score >=60:\n",
        "    print(\"your grade is : c\")\n",
        "  elif score<60 and score>=40:\n",
        "    print(\"your grade is : D\")\n",
        "  else:\n",
        "    print(\"fail\")\n",
        "\n",
        "score=int(input(\"enter your score: \"))\n",
        "grades_assign(score)\n"
      ]
    },
    {
      "cell_type": "code",
      "source": [
        "#2.  Age Verification : Write a program that checks if a person is eligible to vote.\n",
        "\n",
        "age=int(input(\"enter your age: \"))\n",
        "if age<=18:\n",
        "    print(\"Not eligible to vote\")\n",
        "else:\n",
        "    print(\"eligible to vote\")"
      ],
      "metadata": {
        "colab": {
          "base_uri": "https://localhost:8080/"
        },
        "id": "3RKk6MCJKRPi",
        "outputId": "9f7d96d7-61d8-44d0-98f8-a8a7d7883795"
      },
      "execution_count": null,
      "outputs": [
        {
          "output_type": "stream",
          "name": "stdout",
          "text": [
            "enter your age: 34\n",
            "eligible to vote\n"
          ]
        }
      ]
    },
    {
      "cell_type": "code",
      "source": [
        "#3.  Discount Calculation : Write a program that calculates the final price after applying a discount.\n",
        "\n",
        "def products(items,discount):\n",
        "     disc=items-(items*discount/100)\n",
        "     print(f\"your discount is price {disc}\")\n",
        "\n",
        "\n",
        "items_price=int(input(\"select your items price(TV,Ipad,Laptop): \"))\n",
        "discount=int(input(\"enter your discount\"))\n",
        "products(items_price,discount)"
      ],
      "metadata": {
        "colab": {
          "base_uri": "https://localhost:8080/"
        },
        "id": "QUytBs0XKwZ9",
        "outputId": "7955a924-65a8-4183-a9cb-43544cafde37"
      },
      "execution_count": null,
      "outputs": [
        {
          "output_type": "stream",
          "name": "stdout",
          "text": [
            "select your items price(TV,Ipad,Laptop): 50000\n",
            "enter your discount10\n",
            "your discount is price 45000.0\n"
          ]
        }
      ]
    },
    {
      "cell_type": "code",
      "source": [
        "#4.  Temperature Conversion : Write a program that converts temperature from Celsius to Fahrenheit.\n",
        "celsius=47\n",
        "fahrenheit=(celsius * 9/5) + 32\n",
        "print(f\"fahrenheit : {fahrenheit}\")"
      ],
      "metadata": {
        "id": "vfb6WxSybW0G",
        "colab": {
          "base_uri": "https://localhost:8080/"
        },
        "outputId": "49d45992-e149-4927-d46b-2bbc0b65cde7"
      },
      "execution_count": null,
      "outputs": [
        {
          "output_type": "stream",
          "name": "stdout",
          "text": [
            "fahrenheit of the tempture: 116.6\n"
          ]
        }
      ]
    },
    {
      "cell_type": "code",
      "source": [
        "#5.  Even or Odd : Write a program that checks if a number is even or odd.\n",
        "num=int(input(\"enter a number: \"))\n",
        "if num%2==0:\n",
        "    print(f\"The number is even :{num}\")\n",
        "else:\n",
        "    print(f\"The number is odd :{num}\")"
      ],
      "metadata": {
        "id": "hn7ORNwMkrcJ",
        "colab": {
          "base_uri": "https://localhost:8080/"
        },
        "outputId": "03b1f01a-a6ae-445a-b8b6-17f94924723b"
      },
      "execution_count": null,
      "outputs": [
        {
          "output_type": "stream",
          "name": "stdout",
          "text": [
            "enter a number: 35\n",
            "The number is odd :35\n"
          ]
        }
      ]
    },
    {
      "cell_type": "code",
      "source": [
        "#6.  Positive or Negative : Write a program that checks if a number is positive, negative, or zero.\n",
        "num=int(input(\"enter a number: \"))\n",
        "if num>=1:\n",
        "  print(f\"the number is positive: {num}\")\n",
        "elif num<=-1:\n",
        "  print(f\"the number is negtive: {num}\")\n",
        "else:\n",
        "  print(f\"the number is zero:{num}\")"
      ],
      "metadata": {
        "colab": {
          "base_uri": "https://localhost:8080/"
        },
        "id": "fOUXfOJklVqV",
        "outputId": "0c2b8f25-0da1-4ead-847a-89690bfe67f8"
      },
      "execution_count": null,
      "outputs": [
        {
          "output_type": "stream",
          "name": "stdout",
          "text": [
            "enter a number: 0\n",
            "the number is :0\n"
          ]
        }
      ]
    },
    {
      "cell_type": "code",
      "source": [
        "#7.  Student Admission : Write a program that checks if a student is admitted based on their test score.\n",
        "def grades_assign(score):\n",
        "  if score<=100 and score>=40:\n",
        "    print(\"the student is admitted based on the score\")\n",
        "\n",
        "  else:\n",
        "    print(\"the student is not admitted based on the score\")\n",
        "\n",
        "score=int(input(\"enter your score: \"))\n",
        "grades_assign(score)\n"
      ],
      "metadata": {
        "colab": {
          "base_uri": "https://localhost:8080/"
        },
        "id": "a7mT6w-1nc_I",
        "outputId": "8f3bb87e-a474-4242-ccf0-198ed131485f"
      },
      "execution_count": null,
      "outputs": [
        {
          "output_type": "stream",
          "name": "stdout",
          "text": [
            "enter your score: 46\n",
            "the student is admitted based on the score\n"
          ]
        }
      ]
    },
    {
      "cell_type": "code",
      "source": [
        "#8.  Discount Eligibility : Write a program that checks if a customer is eligible for a discount based on their purchase amount.\n",
        "\n",
        "def products(items):\n",
        "  if items>=10000:\n",
        "     discount=int(input(\"enter your discount: \"))\n",
        "     disc=items-(items*discount/100)\n",
        "     print(f\"your discount is price {disc}\")\n",
        "  else:\n",
        "    print(\"you are not eligible for discount\")\n",
        "\n",
        "\n",
        "items_price=int(input(\"select your items price(TV,Ipad,Laptop): \"))\n",
        "\n",
        "products(items_price)\n"
      ],
      "metadata": {
        "colab": {
          "base_uri": "https://localhost:8080/"
        },
        "id": "1fZLv8wrny5V",
        "outputId": "f3ab827f-ea4f-4f7b-b67c-4356d2d62e37"
      },
      "execution_count": null,
      "outputs": [
        {
          "output_type": "stream",
          "name": "stdout",
          "text": [
            "select your items price(TV,Ipad,Laptop): 20000\n",
            "enter your discount10\n",
            "your discount is price 18000.0\n"
          ]
        }
      ]
    },
    {
      "cell_type": "code",
      "source": [
        "#9.  Prime Number Check : Write a program that checks if a number is prime.\n",
        "num = 11\n",
        "if num > 1:\n",
        "    for i in range(2, (num//2)+1):\n",
        "        if (num % i) == 0:\n",
        "            print(num, \"is not a prime number\")\n",
        "            break\n",
        "    else:\n",
        "        print(num, \"is a prime number\")\n",
        "else:\n",
        "    print(num, \"is not a prime number\")"
      ],
      "metadata": {
        "colab": {
          "base_uri": "https://localhost:8080/"
        },
        "id": "VjREh0_AqQNw",
        "outputId": "e305b736-e6df-4b6b-f18a-deb58920dcd6"
      },
      "execution_count": null,
      "outputs": [
        {
          "output_type": "stream",
          "name": "stdout",
          "text": [
            "11 is a prime number\n"
          ]
        }
      ]
    },
    {
      "cell_type": "code",
      "source": [
        "#10.  BMI Calculator : Write a program that calculates the Body Mass Index (BMI) and categorizes it.\n",
        "\n",
        "def BMI(height, weight):\n",
        "    bmi = weight/(height**2)\n",
        "    return bmi\n",
        "\n",
        "\n",
        "height = 1.79832\n",
        "weight = 70\n",
        "bmi = BMI(height, weight)\n",
        "\n",
        "print(\"The BMI is\", format(bmi), \"so \", end='')\n",
        "\n",
        "\n",
        "if (bmi < 18.5):\n",
        "    print(\"underweight\")\n",
        "\n",
        "elif ( bmi >= 18.5 and bmi < 24.9):\n",
        "    print(\"Healthy\")\n",
        "\n",
        "elif ( bmi >= 24.9 and bmi < 30):\n",
        "    print(\"overweight\")\n",
        "\n",
        "elif ( bmi >=30):\n",
        "    print(\"Suffering from Obesity\")"
      ],
      "metadata": {
        "colab": {
          "base_uri": "https://localhost:8080/"
        },
        "id": "a2o30zcfqix3",
        "outputId": "6e65f8c1-b31f-41d5-9b88-5c1aa5080fe4"
      },
      "execution_count": null,
      "outputs": [
        {
          "output_type": "stream",
          "name": "stdout",
          "text": [
            "The BMI is 21.64532402096181 so Healthy\n"
          ]
        }
      ]
    },
    {
      "cell_type": "code",
      "source": [
        "#11. Divisibility Check :  Write a Python program that checks if a number is divisible by 3, 5, or both.\n",
        "num=int(input(\"enter a number: \"))\n",
        "if num%3==0 and num%5==0:\n",
        "  print(f\"{num} is divisible by both 3 and 5\")\n",
        "elif num%3==0:\n",
        "  print(f\"{num} is divisible by 3\")\n",
        "elif num % 5 ==0:\n",
        "  print(f\"{num} is divisible by 5\")\n",
        "else:\n",
        "  print(\"invalid\")"
      ],
      "metadata": {
        "colab": {
          "base_uri": "https://localhost:8080/"
        },
        "id": "xswa5X-NwKlW",
        "outputId": "761cff51-f522-4ef4-bc73-afa1fcbb4896"
      },
      "execution_count": null,
      "outputs": [
        {
          "output_type": "stream",
          "name": "stdout",
          "text": [
            "enter a number: 15\n",
            "15 is divisible by 3 and 5\n"
          ]
        }
      ]
    },
    {
      "cell_type": "code",
      "source": [
        "#12. Quadratic Equation Solver:  Write a Python program that solves quadratic equations (ax^2 + bx + c = 0) and displays the roots.\n",
        "#(ax^2 + bx + c = 0)\n",
        "import cmath  # Importing cmath to handle complex roots\n",
        "\n",
        "def solve_quadratic(a, b, c):\n",
        "    # Check if 'a' is zero to avoid division by zero\n",
        "    if a == 0:\n",
        "        if b == 0:\n",
        "            return \"No solution, as both a and b are zero.\"\n",
        "        else:\n",
        "            return f\"Linear equation solution: x = {-c / b}\"\n",
        "\n",
        "    # Calculate the discriminant\n",
        "    discriminant = (b ** 2) - (4 * a * c)\n",
        "\n",
        "    # Calculate the two roots using the quadratic formula\n",
        "    root1 = (-b + cmath.sqrt(discriminant)) / (2 * a)\n",
        "    root2 = (-b - cmath.sqrt(discriminant)) / (2 * a)\n",
        "\n",
        "    # Return the roots\n",
        "    return root1, root2\n",
        "\n",
        "# Input coefficients\n",
        "print(\"Quadratic Equation Solver\")\n",
        "a = float(input(\"Enter the coefficient a: \"))\n",
        "b = float(input(\"Enter the coefficient b: \"))\n",
        "c = float(input(\"Enter the coefficient c: \"))\n",
        "\n",
        "# Solve the equation and display the roots\n",
        "result = solve_quadratic(a, b, c)\n",
        "print(f\"The roots of the quadratic equation are: {result}\")\n",
        "\n"
      ],
      "metadata": {
        "id": "mROerS1gxHvp",
        "colab": {
          "base_uri": "https://localhost:8080/"
        },
        "outputId": "f3157523-42bb-46a1-b6ee-88db9f9ae4e5"
      },
      "execution_count": null,
      "outputs": [
        {
          "output_type": "stream",
          "name": "stdout",
          "text": [
            "Quadratic Equation Solver\n",
            "Enter the coefficient a: 3\n",
            "Enter the coefficient b: 14\n",
            "Enter the coefficient c: 7\n",
            "The roots of the quadratic equation are: ((-0.5694991259569395+0j), (-4.097167540709727+0j))\n"
          ]
        }
      ]
    },
    {
      "cell_type": "code",
      "source": [
        "#13. Number Range Check :\n",
        "#   : : Write a Python program that checks if a given number lies within a certain range [10, 20].\n",
        "\n",
        "num=int(input(\"enter a number: \"))\n",
        "if num in range(10,21):\n",
        "  print(f\"the number lies between the range {num}\")\n",
        "else:\n",
        "  print(\"the number does not lies betweent the range\")\n"
      ],
      "metadata": {
        "colab": {
          "base_uri": "https://localhost:8080/"
        },
        "id": "dEtNUPVggCOz",
        "outputId": "75c649eb-8282-44e3-b9a7-7d9e64975a37"
      },
      "execution_count": null,
      "outputs": [
        {
          "output_type": "stream",
          "name": "stdout",
          "text": [
            "enter a number: 11\n",
            "the number lies between the range 11\n"
          ]
        }
      ]
    },
    {
      "cell_type": "code",
      "source": [
        "#14.  Triangle Validity :\n",
        " #  : : Write a Python program to check whether a triangle is valid or not given its three sides.\n",
        "\n",
        "a=int(input(\"enter a number:\"))\n",
        "b=int(input(\"enter a number:\"))\n",
        "c=int(input(\"enter a number:\"))\n",
        "sum=a+b+c\n",
        "if a+b>c and a+c>b and b+c>a:\n",
        "  print(\"the triangle is valid\")\n",
        "else:\n",
        "  print(\"the triangle is not valid\")"
      ],
      "metadata": {
        "colab": {
          "base_uri": "https://localhost:8080/"
        },
        "id": "jQtquzEUra8I",
        "outputId": "1a7b520f-5900-4ef9-a573-769f867f9f11"
      },
      "execution_count": null,
      "outputs": [
        {
          "output_type": "stream",
          "name": "stdout",
          "text": [
            "enter a number:3\n",
            "enter a number:4\n",
            "enter a number:4\n",
            "the triangle is valid\n"
          ]
        }
      ]
    },
    {
      "cell_type": "code",
      "source": [
        "#15. Password Strength Check :\n",
        "#   : : Write a Python program to check the strength of a password. It should have at least 8 characters, include at least one number, and at least one uppercase letter.\n",
        "\n",
        "import re\n",
        "\n",
        "def check_password_strength(password):\n",
        "\n",
        "    if len(password) < 8:\n",
        "        return \"Weak password: Must be at least 8 characters long.\"\n",
        "\n",
        "\n",
        "    if not any(char.isupper() for char in password):\n",
        "        return \"Weak password: Must include at least one uppercase letter.\"\n",
        "\n",
        "\n",
        "    if not any(char.isdigit() for char in password):\n",
        "        return \"Weak password: Must include at least one number.\"\n",
        "\n",
        "    return \"Strong password!\"\n",
        "\n",
        "\n",
        "password = input(\"Enter your password: \")\n",
        "\n",
        "\n",
        "result = check_password_strength(password)\n",
        "print(result)\n"
      ],
      "metadata": {
        "colab": {
          "base_uri": "https://localhost:8080/"
        },
        "id": "IZLxXihUuA8r",
        "outputId": "8f40600a-bfb7-4cbe-ef16-f350bbb7b22b"
      },
      "execution_count": null,
      "outputs": [
        {
          "output_type": "stream",
          "name": "stdout",
          "text": [
            "Enter your password: ajdbja456\n",
            "Weak password: Must include at least one uppercase letter.\n"
          ]
        }
      ]
    },
    {
      "cell_type": "code",
      "source": [
        "#16. Income Tax Calculation :\n",
        "#   : : Write a Python program to calculate the income tax based on given slabs:\n",
        "\n",
        "\n",
        "def calculate_income_tax(income):\n",
        "    tax = 0\n",
        "    if income <= 250000:\n",
        "        tax = 0\n",
        "    elif income <= 500000:\n",
        "        tax = (income - 250000) * 0.05\n",
        "    elif income <= 1000000:\n",
        "        tax = (250000 * 0.05) + (income - 500000) * 0.2\n",
        "    else:\n",
        "        tax = (250000 * 0.05) + (500000 * 0.2) + (income - 1000000) * 0.3\n",
        "\n",
        "    return tax\n",
        "\n",
        "\n",
        "try:\n",
        "    income = float(input(\"Enter your annual income: ₹ \"))\n",
        "    if income < 0:\n",
        "        print(\"Income cannot be negative. Please enter a valid amount.\")\n",
        "    else:\n",
        "        tax = calculate_income_tax(income)\n",
        "        print(f\"Your total income tax is: ₹ {tax:.2f}\")\n",
        "except ValueError:\n",
        "    print(\"Invalid input. Please enter a numeric value.\")\n"
      ],
      "metadata": {
        "colab": {
          "base_uri": "https://localhost:8080/"
        },
        "id": "d7bKmuZ5N_uX",
        "outputId": "925b7637-9a0b-4ad1-c005-ddd346c176d6"
      },
      "execution_count": null,
      "outputs": [
        {
          "output_type": "stream",
          "name": "stdout",
          "text": [
            "Enter your annual income: ₹ fdjr\n",
            "Invalid input. Please enter a numeric value.\n"
          ]
        }
      ]
    },
    {
      "cell_type": "code",
      "source": [
        "#17. Calculate Electricity Bill :\n",
        "  # : : Write a Python program to calculate the electricity bill based on the following rates:\n",
        "\n",
        "def calculate_electricity_bill(units):\n",
        "    bill = 0\n",
        "    if units <= 100:\n",
        "        bill = units * 1.5\n",
        "    elif units <= 300:\n",
        "        bill = (100 * 1.5) + (units - 100) * 2.5\n",
        "    elif units <= 500:\n",
        "        bill = (100 * 1.5) + (200 * 2.5) + (units - 300) * 4\n",
        "    else:\n",
        "        bill = (100 * 1.5) + (200 * 2.5) + (200 * 4) + (units - 500) * 6\n",
        "    return bill\n",
        "\n",
        "\n",
        "try:\n",
        "    units = float(input(\"Enter the total units consumed: \"))\n",
        "    if units < 0:\n",
        "        print(\"Units consumed cannot be negative. Please enter a valid number.\")\n",
        "    else:\n",
        "        total_bill = calculate_electricity_bill(units)\n",
        "        print(f\"Your total electricity bill is: ₹ {total_bill:.2f}\")\n",
        "except ValueError:\n",
        "    print(\"Invalid input. Please enter a numeric value.\")\n"
      ],
      "metadata": {
        "colab": {
          "base_uri": "https://localhost:8080/"
        },
        "id": "0XnlkDC4nOpu",
        "outputId": "6fc48ba4-0397-4147-906e-aba24a29e2ad"
      },
      "execution_count": null,
      "outputs": [
        {
          "output_type": "stream",
          "name": "stdout",
          "text": [
            "Enter the total units consumed: 300\n",
            "Your total electricity bill is: ₹ 650.00\n"
          ]
        }
      ]
    },
    {
      "cell_type": "code",
      "source": [
        "#18. Calculate Grade :\n",
        "#   : : Write a Python program to calculate the grade of a student based on their marks:\n",
        "\n",
        "score=int(input(\"enter your grade: \"))\n",
        "\n",
        "if score>=90:\n",
        "    print(\"grade is A\")\n",
        "elif score>=80 and score<90:\n",
        "    print(\"grade is B\")\n",
        "elif score>=70 and score<80:\n",
        "    print(\"grade is C\")\n",
        "elif score>=60 and score<70:\n",
        "    print(\"grade is D\")\n",
        "elif score<60 :\n",
        "    print(\"grade is F\")\n",
        "else:\n",
        "    print(\"low grade\")\n"
      ],
      "metadata": {
        "id": "U3zBJgW_wRx3"
      },
      "execution_count": null,
      "outputs": []
    },
    {
      "cell_type": "code",
      "source": [
        "#19. Convert 24-hour to 12-hour Time Format :\n",
        "   # : : Write a Python program to convert time from 24-hour format to 12-hour form\n",
        "\n",
        "\n",
        "def convert_to_12_hour_format(time_24):\n",
        "    try:\n",
        "\n",
        "        hours, minutes = map(int, time_24.split(':'))\n",
        "        if not (0 <= hours < 24 and 0 <= minutes < 60):\n",
        "            return \"Invalid time format. Please enter a valid 24-hour time.\"\n",
        "        period = \"AM\" if hours < 12 else \"PM\"\n",
        "        hours_12 = hours % 12\n",
        "        hours_12 = 12 if hours_12 == 0 else hours_12\n",
        "        return f\"{hours_12:02d}:{minutes:02d} {period}\"\n",
        "\n",
        "    except ValueError:\n",
        "        return \"Invalid input. Please enter time in HH:MM format.\"\n",
        "\n",
        "\n",
        "\n",
        "time_24 = input(\"Enter time in 24-hour format (HH:MM): \")\n",
        "converted_time = convert_to_12_hour_format(time_24)\n",
        "print(f\"Converted time: {converted_time}\")\n"
      ],
      "metadata": {
        "colab": {
          "base_uri": "https://localhost:8080/"
        },
        "id": "rITk1_yTwZlQ",
        "outputId": "cae2f7cc-1b21-454f-cbf2-9448f7d99db0"
      },
      "execution_count": null,
      "outputs": [
        {
          "output_type": "stream",
          "name": "stdout",
          "text": [
            "Enter time in 24-hour format (HH:MM): 15:45\n",
            "Converted time: 03:45 PM\n"
          ]
        }
      ]
    },
    {
      "cell_type": "code",
      "source": [
        "#20. BMI Categorization :\n",
        " #   : : Write a Python program to calculate the BMI (Body Mass Index) and categorize it.\n",
        "\n",
        "\n",
        "def calculate_bmi(weight, height):\n",
        "    # Calculate BMI\n",
        "    bmi = weight / (height ** 2)\n",
        "    return bmi\n",
        "\n",
        "\n",
        "def categorize_bmi(bmi):\n",
        "    # Determine BMI category\n",
        "    if bmi < 18.5:\n",
        "        return \"Underweight\"\n",
        "    elif 18.5 <= bmi <= 24.9:\n",
        "        return \"Normal weight\"\n",
        "    elif 25 <= bmi <= 29.9:\n",
        "        return \"Overweight\"\n",
        "    else:\n",
        "        return \"Obesity\"\n",
        "\n",
        "\n",
        "# Input from the user\n",
        "try:\n",
        "    weight = float(input(\"Enter your weight in kilograms (kg): \"))\n",
        "    height = float(input(\"Enter your height in meters (m): \"))\n",
        "\n",
        "    if weight > 0 and height > 0:\n",
        "        bmi = calculate_bmi(weight, height)\n",
        "        category = categorize_bmi(bmi)\n",
        "        print(f\"Your BMI is: {bmi:.2f}\")\n",
        "        print(f\"You are categorized as: {category}\")\n",
        "    else:\n",
        "        print(\"Weight and height must be positive numbers.\")\n",
        "except ValueError:\n",
        "    print(\"Invalid input. Please enter numeric values for weight and height.\")\n"
      ],
      "metadata": {
        "colab": {
          "base_uri": "https://localhost:8080/"
        },
        "id": "fP1Q1x6H1VOn",
        "outputId": "b1d69c1e-c377-4dde-ccc3-f0d8a4729a4d"
      },
      "execution_count": null,
      "outputs": [
        {
          "output_type": "stream",
          "name": "stdout",
          "text": [
            "Enter your weight in kilograms (kg): 50\n",
            "Enter your height in meters (m): 1.72\n",
            "Your BMI is: 16.90\n",
            "You are categorized as: Underweight\n"
          ]
        }
      ]
    },
    {
      "cell_type": "code",
      "source": [
        "#21. Determine Season from Month :\n",
        " #   : : Write a Python program to determine the season based on the given month.\n",
        "def determine_season(month):\n",
        "    month = month.lower()  # Convert input to lowercase for case-insensitivity\n",
        "\n",
        "    if month in (\"december\", \"january\", \"february\"):\n",
        "        return \"Winter\"\n",
        "    elif month in (\"march\", \"april\", \"may\"):\n",
        "        return \"Spring\"\n",
        "    elif month in (\"june\", \"july\", \"august\"):\n",
        "        return \"Summer\"\n",
        "    elif month in (\"september\", \"october\", \"november\"):\n",
        "        return \"Autumn\"\n",
        "    else:\n",
        "        return \"Invalid month. Please enter a valid month name.\"\n",
        "\n",
        "\n",
        "month = input(\"Enter the name of a month: \").strip()\n",
        "season = determine_season(month)\n",
        "print(f\"The season for the month '{month}' is: {season}\")\n"
      ],
      "metadata": {
        "colab": {
          "base_uri": "https://localhost:8080/"
        },
        "id": "a6Vv0cQT15fj",
        "outputId": "8c5b13e6-8c9b-4c56-d451-00e3adcd58ab"
      },
      "execution_count": null,
      "outputs": [
        {
          "output_type": "stream",
          "name": "stdout",
          "text": [
            "Enter the name of a month: december\n",
            "The season for the month 'december' is: Winter\n"
          ]
        }
      ]
    },
    {
      "cell_type": "code",
      "source": [
        "#22.  Day of the Week :\n",
        " #   : : Write a Python program that maps a number (1-7) to a day of the week.\n",
        "def get_day_of_week(number):\n",
        "    days = {\n",
        "        1: \"Monday\",\n",
        "        2: \"Tuesday\",\n",
        "        3: \"Wednesday\",\n",
        "        4: \"Thursday\",\n",
        "        5: \"Friday\",\n",
        "        6: \"Saturday\",\n",
        "        7: \"Sunday\"\n",
        "    }\n",
        "    return days.get(number, \"Invalid number. Please enter a number between 1 and 7.\")\n",
        "\n",
        "\n",
        "try:\n",
        "    number = int(input(\"Enter a number (1-7): \"))\n",
        "    day = get_day_of_week(number)\n",
        "    print(f\"The day of the week for number {number} is: {day}\")\n",
        "except ValueError:\n",
        "    print(\"Invalid input. Please enter an integer between 1 and 7.\")\n"
      ],
      "metadata": {
        "colab": {
          "base_uri": "https://localhost:8080/"
        },
        "id": "7os4IF7Y2siv",
        "outputId": "eb6f6279-cd02-4556-d805-db3dbdcbfd76"
      },
      "execution_count": null,
      "outputs": [
        {
          "output_type": "stream",
          "name": "stdout",
          "text": [
            "Enter a number (1-7): 5\n",
            "The day of the week for number 5 is: Friday\n"
          ]
        }
      ]
    },
    {
      "cell_type": "code",
      "source": [
        "#23. Check Vowel or Consonant:: Write a Python program that checks whether a given character is a vowel or consonant.\n",
        "\n",
        "def check_vowel_or_consonant(char):\n",
        "    vowels = \"aeiou\"\n",
        "    if len(char) != 1 or not char.isalpha():\n",
        "        return \"Invalid input. Please enter a single alphabetic character.\"\n",
        "\n",
        "    char = char.lower()\n",
        "    if char in vowels:\n",
        "        return f\"'{char}' is a Vowel.\"\n",
        "    else:\n",
        "        return f\"'{char}' is a Consonant.\"\n",
        "\n",
        "\n",
        "char = input(\"Enter a single character: \").strip()\n",
        "result = check_vowel_or_consonant(char)\n",
        "print(result)\n"
      ],
      "metadata": {
        "colab": {
          "base_uri": "https://localhost:8080/"
        },
        "id": "ZgOXb-CV5k6Q",
        "outputId": "8cc94123-cf32-4737-db47-d40e660ef5f4"
      },
      "execution_count": null,
      "outputs": [
        {
          "output_type": "stream",
          "name": "stdout",
          "text": [
            "Enter a single character: r\n",
            "'r' is a Consonant.\n"
          ]
        }
      ]
    },
    {
      "cell_type": "code",
      "source": [
        "#24. Employee Bonus Calculation:: Write a Python program that calculates the bonus for an employee based on their years of service.\n",
        "# More than 10 years: 10% of the salary\n",
        "# Between 5 and 10 years: 5% of the salary\n",
        "# Less than 5 years: 2% of the salary\n",
        "try:\n",
        "  years=int(input(\"enter your years of services; \"))\n",
        "  salary=int(input(\"enter your salary: \"))\n",
        "\n",
        "  if years>=10:\n",
        "      bonus=salary*(10/100)\n",
        "      amount=salary+bonus\n",
        "      print(f\"your bonus salary is : {bonus} total amount is: {amount}\")\n",
        "  elif years >=5 and years<10:\n",
        "      bonus=salary*(5/100)\n",
        "\n",
        "      amount=salary+bonus\n",
        "      print(f\"your bonus salary is : {bonus} total amount is: {amount}\")\n",
        "  elif years<5:\n",
        "      bonus=salary*(2/100)\n",
        "      amount=salary+bonus\n",
        "      print(f\"your bonus salary is : {bonus} total amount is: {amount}\")\n",
        "  else:\n",
        "      print(\"no bonus\")\n",
        "except ValueError:\n",
        "  print(\"Invalid input. Please enter a numeric value.\")\n"
      ],
      "metadata": {
        "id": "iF23_HUDt0jl",
        "colab": {
          "base_uri": "https://localhost:8080/"
        },
        "outputId": "b7da4bf4-c9e8-4d4c-d2d3-719ad3f7d26e"
      },
      "execution_count": null,
      "outputs": [
        {
          "output_type": "stream",
          "name": "stdout",
          "text": [
            "enter your years of services; 10\n",
            "enter your salary: 50000\n",
            "your bonus salary is : 5000.0 total amount is: 55000.0\n"
          ]
        }
      ]
    },
    {
      "cell_type": "code",
      "source": [
        "#25. Check Palindrome:: Write a Python program that checks whether a given string is a palindrome.\n",
        "\n",
        "def is_palindrome(s):\n",
        "    s = s.replace(\" \", \"\").lower()\n",
        "    return s == s[::-1]\n",
        "\n",
        "\n",
        "string = input(\"Enter a string: \").strip()\n",
        "if is_palindrome(string):\n",
        "    print(f\"'{string}' is a palindrome.\")\n",
        "else:\n",
        "    print(f\"'{string}' is not a palindrome.\")\n"
      ],
      "metadata": {
        "id": "kGFTLcQ46SqE",
        "colab": {
          "base_uri": "https://localhost:8080/"
        },
        "outputId": "1c62794d-9e0b-4345-d6ce-d514c31b255b"
      },
      "execution_count": null,
      "outputs": [
        {
          "output_type": "stream",
          "name": "stdout",
          "text": [
            "Enter a string: asha\n",
            "'asha' is not a palindrome.\n"
          ]
        }
      ]
    }
  ]
}
